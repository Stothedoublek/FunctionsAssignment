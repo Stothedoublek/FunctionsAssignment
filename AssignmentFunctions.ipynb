{
 "cells": [
  {
   "cell_type": "markdown",
   "id": "a8d0d32b-4e33-4a5e-a71f-0ccae35653ba",
   "metadata": {},
   "source": [
    "                    ASSIGNMENT 3- FEB"
   ]
  },
  {
   "cell_type": "markdown",
   "id": "f7997501-f895-4b22-bbeb-6d42e9e5d93d",
   "metadata": {},
   "source": [
    "Qn.1 - Which keyword is used to create a function? Create a function to return a list of odd numbers in the\n",
    "range of 1 to 25?"
   ]
  },
  {
   "cell_type": "markdown",
   "id": "93e10863-68a5-42e6-83ff-abda535a26a9",
   "metadata": {},
   "source": [
    "The keyword used to create a function in Python is def. A function is a block of code that performs a specific task and can be reused in a program. To create a function, you need to use the def keyword, followed by the name of the function and the parameters (if any) in parentheses. Then, you need to write the body of the function with proper indentation and return a value (if any) using the return keyword."
   ]
  },
  {
   "cell_type": "code",
   "execution_count": 1,
   "id": "ac1b50fe-063a-461e-bf32-7bdc00c04e7e",
   "metadata": {},
   "outputs": [
    {
     "name": "stdout",
     "output_type": "stream",
     "text": [
      "[1, 3, 5, 7, 9, 11, 13, 15, 17, 19, 21, 23, 25]\n"
     ]
    }
   ],
   "source": [
    "#CODE to create a function that returns a list of odd numbers in the range of 1 to 25\n",
    "# Define a function named odd_numbers\n",
    "def odd_numbers():\n",
    "    # Create an empty list to store the odd numbers\n",
    "    odd_list = []\n",
    "    # Loop through the numbers from 1 to 25\n",
    "    for num in range(1, 26):\n",
    "        # Check if the number is odd\n",
    "        if num % 2 == 1:\n",
    "            # Append the number to the odd list\n",
    "            odd_list.append(num)\n",
    "    # Return the odd list\n",
    "    return odd_list\n",
    "\n",
    "# Call the function and print the result\n",
    "print(odd_numbers())\n",
    "\n"
   ]
  },
  {
   "cell_type": "markdown",
   "id": "c1c2578d-bdbf-4989-94a3-9e7862b611a0",
   "metadata": {},
   "source": [
    "QN.2 - Why *args and **kwargs is used in some functions? Create a function each for *args and **kwargs to\n",
    "demonstrate their use."
   ]
  },
  {
   "cell_type": "markdown",
   "id": "30b115ed-2103-4889-8189-721dbfcd4983",
   "metadata": {},
   "source": [
    "*args and **kwargs are used in some functions to allow passing a variable number of arguments to the function. *args is used to pass a tuple of positional arguments, while **kwargs is used to pass a dictionary of keyword arguments. These are useful when you don’t know how many arguments the function will receive, or when you want to pass arguments from another function or sequence."
   ]
  },
  {
   "cell_type": "code",
   "execution_count": 3,
   "id": "a3320260-bdc5-4e5e-a5d3-7ba5e14a2800",
   "metadata": {},
   "outputs": [
    {
     "name": "stdout",
     "output_type": "stream",
     "text": [
      "6\n",
      "11\n",
      "5\n",
      "0\n"
     ]
    }
   ],
   "source": [
    "# Define a function that uses *args to calculate the sum of all the numbers passed to it\n",
    "def sum_numbers(*args):\n",
    "    # Initialize the sum to zero\n",
    "    total = 0\n",
    "    # Loop through the args tuple\n",
    "    for num in args:\n",
    "        # Add the number to the sum\n",
    "        total += num\n",
    "    # Return the sum\n",
    "    return total\n",
    "\n",
    "# Call the function with different numbers of arguments and print the result\n",
    "print(sum_numbers(1, 2, 3)) # 6\n",
    "print(sum_numbers(4, 7)) # 11\n",
    "print(sum_numbers(5)) # 5\n",
    "print(sum_numbers()) # 0\n"
   ]
  },
  {
   "cell_type": "code",
   "execution_count": 4,
   "id": "50de00a2-6d80-43af-880d-dd045073a7c9",
   "metadata": {},
   "outputs": [
    {
     "name": "stdout",
     "output_type": "stream",
     "text": [
      "name: Alice\n",
      "age: 25\n",
      "city: New York\n",
      "name: Bob\n",
      "profession: Engineer\n",
      "hobby: Chess\n",
      "name: Charlie\n"
     ]
    }
   ],
   "source": [
    "# Define a function that uses **kwargs to print the details of a person passed as keyword arguments\n",
    "def print_person(**kwargs):\n",
    "    # Loop through the kwargs dictionary\n",
    "    for key, value in kwargs.items():\n",
    "        # Print the key and value pair\n",
    "        print(f\"{key}: {value}\")\n",
    "\n",
    "# Call the function with different keyword arguments and print the result\n",
    "print_person(name=\"Alice\", age=25, city=\"New York\")\n",
    "\n",
    "\n",
    "print_person(name=\"Bob\", profession=\"Engineer\", hobby=\"Chess\")\n",
    "\n",
    "\n",
    "print_person(name=\"Charlie\")\n"
   ]
  },
  {
   "cell_type": "markdown",
   "id": "3f7ce2c6-688e-4291-8aa9-928b15667b2a",
   "metadata": {},
   "source": [
    "QN.3 - What is an iterator in python? Name the method used to initialise the iterator object and the method\n",
    "used for iteration. Use these methods to print the first five elements of the given list [2, 4, 6, 8, 10, 12, 14, 16,\n",
    "18, 20]."
   ]
  },
  {
   "cell_type": "markdown",
   "id": "636ddcbe-4828-48f2-b512-f2f4107dfef3",
   "metadata": {},
   "source": [
    "An iterator in Python is an object that can be iterated upon, meaning that you can traverse through all the values in an iterable object like lists, tuples, dicts, and sets. An iterator implements the iterator protocol, which consists of two methods: iter() and next()\n",
    "\n",
    "The iter() method is used to initialize the iterator object and return itself. The next() method is used to return the next value in the sequence and raise a StopIteration exception when the iteration is finished.\n",
    "\n",
    "To print the first five elements of the given list [2, 4, 6, 8, 10, 12, 14, 16, 18, 20], we can use the following code:"
   ]
  },
  {
   "cell_type": "code",
   "execution_count": 5,
   "id": "f1de7721-3e4c-433b-8da6-15af4a1dec4c",
   "metadata": {},
   "outputs": [
    {
     "name": "stdout",
     "output_type": "stream",
     "text": [
      "2\n",
      "4\n",
      "6\n",
      "8\n",
      "10\n"
     ]
    }
   ],
   "source": [
    "# Create a list of numbers\n",
    "num_list = [2, 4, 6, 8, 10, 12, 14, 16, 18, 20]\n",
    "\n",
    "# Get an iterator for the list\n",
    "num_iter = iter(num_list)\n",
    "\n",
    "# Loop through the first five elements using next()\n",
    "for i in range(5):\n",
    "    print(next(num_iter))\n"
   ]
  },
  {
   "cell_type": "markdown",
   "id": "977733ca-27e2-407c-8910-5959680099e6",
   "metadata": {},
   "source": [
    "QN.4 - What is a generator function in python? Why yield keyword is used? Give an example of a generator\n",
    "function."
   ]
  },
  {
   "cell_type": "markdown",
   "id": "5447da53-76b5-48a2-a638-d8f8172e69a6",
   "metadata": {},
   "source": [
    "A generator function in Python is a function that can produce a sequence of values on demand, without storing them all in memory at once. A generator function uses the yield keyword to return a value and suspend its execution until the next value is requested. A generator function can be resumed from where it left off, unlike a normal function that starts from the beginning every time it is called.\n",
    "An example of a generator function is:"
   ]
  },
  {
   "cell_type": "code",
   "execution_count": 6,
   "id": "428462e6-eef3-44e6-8ff9-d973cb69eec3",
   "metadata": {},
   "outputs": [
    {
     "name": "stdout",
     "output_type": "stream",
     "text": [
      "1\n",
      "2\n",
      "4\n",
      "8\n",
      "16\n",
      "32\n",
      "64\n"
     ]
    }
   ],
   "source": [
    "# Define a generator function that yields the powers of 2 up to a limit\n",
    "def power_of_2(limit):\n",
    "    # Initialize the exponent\n",
    "    n = 0\n",
    "    # Loop until the power of 2 is less than or equal to the limit\n",
    "    while 2 ** n <= limit:\n",
    "        # Yield the power of 2\n",
    "        yield 2 ** n\n",
    "        # Increment the exponent\n",
    "        n += 1\n",
    "\n",
    "# Create a generator object from the generator function\n",
    "gen = power_of_2(100)\n",
    "\n",
    "# Print the values produced by the generator using next()\n",
    "print(next(gen)) \n",
    "print(next(gen)) \n",
    "print(next(gen)) \n",
    "print(next(gen))\n",
    "print(next(gen)) \n",
    "print(next(gen))\n",
    "print(next(gen)) "
   ]
  },
  {
   "cell_type": "markdown",
   "id": "fdf49bb2-7eb4-44c6-9cf4-e6070b16fe70",
   "metadata": {},
   "source": [
    "The yield keyword is used to make a generator function in Python. It allows the function to return a value and pause its execution until the next value is needed. This way, the function can produce values lazily, without consuming too much memory or time."
   ]
  },
  {
   "cell_type": "markdown",
   "id": "88c0fb64-134a-44e8-9b3b-e510de85a921",
   "metadata": {},
   "source": [
    "QN 5 - Create a generator function for prime numbers less than 1000. Use the next() method to print the\n",
    "first 20 prime numbers."
   ]
  },
  {
   "cell_type": "code",
   "execution_count": 7,
   "id": "af48ace9-0f88-4eed-8827-53fa60b33b50",
   "metadata": {},
   "outputs": [
    {
     "name": "stdout",
     "output_type": "stream",
     "text": [
      "2\n",
      "3\n",
      "5\n",
      "7\n",
      "11\n",
      "13\n",
      "17\n",
      "19\n",
      "23\n",
      "29\n",
      "31\n",
      "37\n",
      "41\n",
      "43\n",
      "47\n",
      "53\n",
      "59\n",
      "61\n",
      "67\n",
      "71\n"
     ]
    }
   ],
   "source": [
    "# Define a generator function that yields prime numbers less than 1000\n",
    "def prime_numbers():\n",
    "    # Initialize the number to 2, the first prime number\n",
    "    n = 2\n",
    "    # Loop until the number is less than 1000\n",
    "    while n < 1000:\n",
    "        # Assume the number is prime until proven otherwise\n",
    "        is_prime = True\n",
    "        # Loop through the possible divisors from 2 to the square root of n\n",
    "        for d in range(2, int(n ** 0.5) + 1):\n",
    "            # Check if n is divisible by d\n",
    "            if n % d == 0:\n",
    "                # n is not prime, break the loop\n",
    "                is_prime = False\n",
    "                break\n",
    "        # If n is prime, yield it\n",
    "        if is_prime:\n",
    "            yield n\n",
    "        # Increment n by 1\n",
    "        n += 1\n",
    "\n",
    "# Create a generator object from the generator function\n",
    "gen = prime_numbers()\n",
    "\n",
    "# Print the first 20 prime numbers using next()\n",
    "for i in range(20):\n",
    "    print(next(gen))"
   ]
  },
  {
   "cell_type": "code",
   "execution_count": null,
   "id": "ee25eb90-6a7b-4c2d-bf45-f21748847d4e",
   "metadata": {},
   "outputs": [],
   "source": []
  }
 ],
 "metadata": {
  "kernelspec": {
   "display_name": "Python 3 (ipykernel)",
   "language": "python",
   "name": "python3"
  },
  "language_info": {
   "codemirror_mode": {
    "name": "ipython",
    "version": 3
   },
   "file_extension": ".py",
   "mimetype": "text/x-python",
   "name": "python",
   "nbconvert_exporter": "python",
   "pygments_lexer": "ipython3",
   "version": "3.10.8"
  }
 },
 "nbformat": 4,
 "nbformat_minor": 5
}
